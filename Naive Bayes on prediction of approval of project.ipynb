{
 "cells": [
  {
   "cell_type": "markdown",
   "metadata": {
    "id": "Dnubs-Nnb3cw"
   },
   "source": [
    "## Naive Bayes to predict approval of project"
   ]
  },
  {
   "cell_type": "markdown",
   "metadata": {
    "id": "FYqCIxzFb3c5"
   },
   "source": [
    "## Loading Data"
   ]
  },
  {
   "cell_type": "code",
   "execution_count": 1,
   "metadata": {
    "id": "dA1jknyqb3c_"
   },
   "outputs": [],
   "source": [
    "import pandas\n",
    "data = pandas.read_csv('preprocessed_data.csv',nrows = 100000)"
   ]
  },
  {
   "cell_type": "markdown",
   "metadata": {
    "id": "WtVV13Fyb3dH"
   },
   "source": [
    "<h2>Splitting data into Train and cross validation(or test): Stratified Sampling</h2>"
   ]
  },
  {
   "cell_type": "code",
   "execution_count": 3,
   "metadata": {},
   "outputs": [
    {
     "data": {
      "text/html": [
       "<div>\n",
       "<style scoped>\n",
       "    .dataframe tbody tr th:only-of-type {\n",
       "        vertical-align: middle;\n",
       "    }\n",
       "\n",
       "    .dataframe tbody tr th {\n",
       "        vertical-align: top;\n",
       "    }\n",
       "\n",
       "    .dataframe thead th {\n",
       "        text-align: right;\n",
       "    }\n",
       "</style>\n",
       "<table border=\"1\" class=\"dataframe\">\n",
       "  <thead>\n",
       "    <tr style=\"text-align: right;\">\n",
       "      <th></th>\n",
       "      <th>school_state</th>\n",
       "      <th>teacher_prefix</th>\n",
       "      <th>project_grade_category</th>\n",
       "      <th>teacher_number_of_previously_posted_projects</th>\n",
       "      <th>clean_categories</th>\n",
       "      <th>clean_subcategories</th>\n",
       "      <th>essay</th>\n",
       "      <th>price</th>\n",
       "    </tr>\n",
       "  </thead>\n",
       "  <tbody>\n",
       "    <tr>\n",
       "      <th>0</th>\n",
       "      <td>ca</td>\n",
       "      <td>mrs</td>\n",
       "      <td>grades_prek_2</td>\n",
       "      <td>53</td>\n",
       "      <td>math_science</td>\n",
       "      <td>appliedsciences health_lifescience</td>\n",
       "      <td>i fortunate enough use fairy tale stem kits cl...</td>\n",
       "      <td>725.05</td>\n",
       "    </tr>\n",
       "    <tr>\n",
       "      <th>1</th>\n",
       "      <td>ut</td>\n",
       "      <td>ms</td>\n",
       "      <td>grades_3_5</td>\n",
       "      <td>4</td>\n",
       "      <td>specialneeds</td>\n",
       "      <td>specialneeds</td>\n",
       "      <td>imagine 8 9 years old you third grade classroo...</td>\n",
       "      <td>213.03</td>\n",
       "    </tr>\n",
       "  </tbody>\n",
       "</table>\n",
       "</div>"
      ],
      "text/plain": [
       "  school_state teacher_prefix project_grade_category  \\\n",
       "0           ca            mrs          grades_prek_2   \n",
       "1           ut             ms             grades_3_5   \n",
       "\n",
       "   teacher_number_of_previously_posted_projects clean_categories  \\\n",
       "0                                            53     math_science   \n",
       "1                                             4     specialneeds   \n",
       "\n",
       "                  clean_subcategories  \\\n",
       "0  appliedsciences health_lifescience   \n",
       "1                        specialneeds   \n",
       "\n",
       "                                               essay   price  \n",
       "0  i fortunate enough use fairy tale stem kits cl...  725.05  \n",
       "1  imagine 8 9 years old you third grade classroo...  213.03  "
      ]
     },
     "execution_count": 3,
     "metadata": {},
     "output_type": "execute_result"
    }
   ],
   "source": [
    "# Splitting into predictors and target class\n",
    "y = data['project_is_approved'].values\n",
    "X = data.drop(['project_is_approved'], axis=1)\n",
    "X.head(2)"
   ]
  },
  {
   "cell_type": "code",
   "execution_count": 4,
   "metadata": {},
   "outputs": [
    {
     "data": {
      "text/html": [
       "<div>\n",
       "<style scoped>\n",
       "    .dataframe tbody tr th:only-of-type {\n",
       "        vertical-align: middle;\n",
       "    }\n",
       "\n",
       "    .dataframe tbody tr th {\n",
       "        vertical-align: top;\n",
       "    }\n",
       "\n",
       "    .dataframe thead th {\n",
       "        text-align: right;\n",
       "    }\n",
       "</style>\n",
       "<table border=\"1\" class=\"dataframe\">\n",
       "  <thead>\n",
       "    <tr style=\"text-align: right;\">\n",
       "      <th></th>\n",
       "      <th>school_state</th>\n",
       "      <th>teacher_prefix</th>\n",
       "      <th>project_grade_category</th>\n",
       "      <th>teacher_number_of_previously_posted_projects</th>\n",
       "      <th>clean_categories</th>\n",
       "      <th>clean_subcategories</th>\n",
       "      <th>essay</th>\n",
       "      <th>price</th>\n",
       "    </tr>\n",
       "  </thead>\n",
       "  <tbody>\n",
       "    <tr>\n",
       "      <th>84054</th>\n",
       "      <td>ny</td>\n",
       "      <td>mrs</td>\n",
       "      <td>grades_3_5</td>\n",
       "      <td>1</td>\n",
       "      <td>math_science</td>\n",
       "      <td>appliedsciences</td>\n",
       "      <td>the majority students come low income poverty ...</td>\n",
       "      <td>719.93</td>\n",
       "    </tr>\n",
       "  </tbody>\n",
       "</table>\n",
       "</div>"
      ],
      "text/plain": [
       "      school_state teacher_prefix project_grade_category  \\\n",
       "84054           ny            mrs             grades_3_5   \n",
       "\n",
       "       teacher_number_of_previously_posted_projects clean_categories  \\\n",
       "84054                                             1     math_science   \n",
       "\n",
       "      clean_subcategories                                              essay  \\\n",
       "84054     appliedsciences  the majority students come low income poverty ...   \n",
       "\n",
       "        price  \n",
       "84054  719.93  "
      ]
     },
     "execution_count": 4,
     "metadata": {},
     "output_type": "execute_result"
    }
   ],
   "source": [
    "# Splitting into train test and Cv sets\n",
    "\n",
    "from sklearn.model_selection import train_test_split\n",
    "X_train, X_test, y_train, y_test = train_test_split(X, y, test_size=0.33, stratify = y)\n",
    "X_train, X_cv, y_train, y_cv = train_test_split(X_train, y_train, test_size = 0.33, stratify = y_train)\n",
    "X_train.head(1)"
   ]
  },
  {
   "cell_type": "markdown",
   "metadata": {
    "id": "EnZwVNULb3dO"
   },
   "source": [
    "<h2>Encoding essay, and project_title</h2>"
   ]
  },
  {
   "cell_type": "code",
   "execution_count": 6,
   "metadata": {},
   "outputs": [],
   "source": [
    "from sklearn.feature_extraction.text import TfidfVectorizer, CountVectorizer"
   ]
  },
  {
   "cell_type": "code",
   "execution_count": 7,
   "metadata": {},
   "outputs": [
    {
     "data": {
      "text/plain": [
       "CountVectorizer(max_features=5000, min_df=10, ngram_range=(1, 4))"
      ]
     },
     "execution_count": 7,
     "metadata": {},
     "output_type": "execute_result"
    }
   ],
   "source": [
    "vectorizer = CountVectorizer(ngram_range = (1,4), min_df = 10, max_features = 5000)\n",
    "vectorizer.fit(X_train['essay'])"
   ]
  },
  {
   "cell_type": "code",
   "execution_count": 8,
   "metadata": {},
   "outputs": [],
   "source": [
    "X_train_essay_bow = vectorizer.transform(X_train['essay'])\n",
    "X_cv_essay_bow = vectorizer.transform(X_cv['essay'].values)\n",
    "X_test_essay_bow = vectorizer.transform(X_test['essay'].values)"
   ]
  },
  {
   "cell_type": "code",
   "execution_count": 9,
   "metadata": {},
   "outputs": [
    {
     "name": "stdout",
     "output_type": "stream",
     "text": [
      "(44890, 5000) (44890,)\n",
      "(22110, 5000) (22110,)\n",
      "(33000, 5000) (33000,)\n"
     ]
    }
   ],
   "source": [
    "print(X_train_essay_bow.shape, y_train.shape)\n",
    "print(X_cv_essay_bow.shape, y_cv.shape)\n",
    "print(X_test_essay_bow.shape, y_test.shape)"
   ]
  },
  {
   "cell_type": "code",
   "execution_count": 10,
   "metadata": {},
   "outputs": [
    {
     "data": {
      "text/plain": [
       "TfidfVectorizer(max_features=5000, min_df=10, ngram_range=(1, 4))"
      ]
     },
     "execution_count": 10,
     "metadata": {},
     "output_type": "execute_result"
    }
   ],
   "source": [
    "vectorizer_tfidf = TfidfVectorizer(ngram_range = (1,4), min_df = 10, max_features = 5000)\n",
    "vectorizer_tfidf.fit(X_train['essay'])"
   ]
  },
  {
   "cell_type": "code",
   "execution_count": 11,
   "metadata": {},
   "outputs": [],
   "source": [
    "X_train_essay_tfidf = vectorizer_tfidf.transform(X_train['essay'])\n",
    "X_cv_essay_tfidf = vectorizer_tfidf.transform(X_cv['essay'].values)\n",
    "X_test_essay_tfidf = vectorizer_tfidf.transform(X_test['essay'].values)"
   ]
  },
  {
   "cell_type": "code",
   "execution_count": 12,
   "metadata": {},
   "outputs": [
    {
     "name": "stdout",
     "output_type": "stream",
     "text": [
      "(44890, 5000) (44890,)\n",
      "(22110, 5000) (22110,)\n",
      "(33000, 5000) (33000,)\n"
     ]
    }
   ],
   "source": [
    "print(X_train_essay_tfidf.shape, y_train.shape)\n",
    "print(X_cv_essay_tfidf.shape, y_cv.shape)\n",
    "print(X_test_essay_tfidf.shape, y_test.shape)"
   ]
  },
  {
   "cell_type": "markdown",
   "metadata": {
    "id": "bGy86kgHb3dX"
   },
   "source": [
    "<h2>Encoding numerical, categorical features</h2>"
   ]
  },
  {
   "cell_type": "code",
   "execution_count": 14,
   "metadata": {},
   "outputs": [],
   "source": [
    "# categorical features\n",
    "# - teacher_prefix\n",
    "# - project_grade_category\n",
    "# - school_state\n",
    "# - clean_categories\n",
    "# - clean_subcategories\n",
    "# numerical features\n",
    "# - price\n",
    "# - teacher_number_of_previously_posted_projects"
   ]
  },
  {
   "cell_type": "markdown",
   "metadata": {},
   "source": [
    "#### Encoding teacher_prefix"
   ]
  },
  {
   "cell_type": "code",
   "execution_count": 15,
   "metadata": {},
   "outputs": [
    {
     "data": {
      "text/plain": [
       "mrs        23536\n",
       "ms         16014\n",
       "mr          4357\n",
       "teacher      979\n",
       "dr             4\n",
       "Name: teacher_prefix, dtype: int64"
      ]
     },
     "execution_count": 15,
     "metadata": {},
     "output_type": "execute_result"
    }
   ],
   "source": [
    "X_train['teacher_prefix'].value_counts()"
   ]
  },
  {
   "cell_type": "code",
   "execution_count": 16,
   "metadata": {},
   "outputs": [
    {
     "data": {
      "text/plain": [
       "CountVectorizer()"
      ]
     },
     "execution_count": 16,
     "metadata": {},
     "output_type": "execute_result"
    }
   ],
   "source": [
    "#Bow encoding of teacher_prefix feature\n",
    "vectorizer = CountVectorizer()\n",
    "vectorizer.fit(X_train['teacher_prefix'].values)"
   ]
  },
  {
   "cell_type": "code",
   "execution_count": 17,
   "metadata": {},
   "outputs": [
    {
     "name": "stdout",
     "output_type": "stream",
     "text": [
      "(44890, 5) (44890,)\n",
      "(22110, 5) (22110,)\n",
      "(33000, 5) (33000,)\n",
      "['dr', 'mr', 'mrs', 'ms', 'teacher']\n"
     ]
    }
   ],
   "source": [
    "X_train_teacher_prefix_ohe = vectorizer.transform(X_train['teacher_prefix'].values)\n",
    "X_cv_teacher_prefix_ohe = vectorizer.transform(X_cv['teacher_prefix'].values)\n",
    "X_test_teacher_prefix_ohe = vectorizer.transform(X_test['teacher_prefix'].values)\n",
    "\n",
    "print(X_train_teacher_prefix_ohe.shape, y_train.shape)\n",
    "print(X_cv_teacher_prefix_ohe.shape, y_cv.shape)\n",
    "print(X_test_teacher_prefix_ohe.shape, y_test.shape)\n",
    "print(vectorizer.get_feature_names())"
   ]
  },
  {
   "cell_type": "markdown",
   "metadata": {},
   "source": [
    "#### Encoding project_grade_category feature"
   ]
  },
  {
   "cell_type": "code",
   "execution_count": 18,
   "metadata": {},
   "outputs": [
    {
     "data": {
      "text/plain": [
       "CountVectorizer()"
      ]
     },
     "execution_count": 18,
     "metadata": {},
     "output_type": "execute_result"
    }
   ],
   "source": [
    "vectorizer = CountVectorizer()\n",
    "vectorizer.fit(X_train['project_grade_category'].values)"
   ]
  },
  {
   "cell_type": "code",
   "execution_count": 19,
   "metadata": {},
   "outputs": [
    {
     "name": "stdout",
     "output_type": "stream",
     "text": [
      "(44890, 4) (44890,)\n",
      "(22110, 4) (22110,)\n",
      "(33000, 4) (33000,)\n",
      "['grades_3_5', 'grades_6_8', 'grades_9_12', 'grades_prek_2']\n"
     ]
    }
   ],
   "source": [
    "X_train_project_grade_ohe = vectorizer.transform(X_train['project_grade_category'].values)\n",
    "X_cv_project_grade_ohe = vectorizer.transform(X_cv['project_grade_category'].values)\n",
    "X_test_project_grade_ohe = vectorizer.transform(X_test['project_grade_category'].values)\n",
    "\n",
    "\n",
    "print(X_train_project_grade_ohe.shape, y_train.shape)\n",
    "print(X_cv_project_grade_ohe.shape, y_cv.shape)\n",
    "print(X_test_project_grade_ohe.shape, y_test.shape)\n",
    "print(vectorizer.get_feature_names())"
   ]
  },
  {
   "cell_type": "markdown",
   "metadata": {},
   "source": [
    "#### Encoding school_state feature"
   ]
  },
  {
   "cell_type": "code",
   "execution_count": 20,
   "metadata": {},
   "outputs": [
    {
     "data": {
      "text/plain": [
       "CountVectorizer()"
      ]
     },
     "execution_count": 20,
     "metadata": {},
     "output_type": "execute_result"
    }
   ],
   "source": [
    "vectorizer = CountVectorizer()\n",
    "vectorizer.fit(X_train['school_state'].values)"
   ]
  },
  {
   "cell_type": "code",
   "execution_count": 21,
   "metadata": {},
   "outputs": [
    {
     "name": "stdout",
     "output_type": "stream",
     "text": [
      "(44890, 51) (44890,)\n",
      "(22110, 51) (22110,)\n",
      "(33000, 51) (33000,)\n",
      "['ak', 'al', 'ar', 'az', 'ca', 'co', 'ct', 'dc', 'de', 'fl', 'ga', 'hi', 'ia', 'id', 'il', 'in', 'ks', 'ky', 'la', 'ma', 'md', 'me', 'mi', 'mn', 'mo', 'ms', 'mt', 'nc', 'nd', 'ne', 'nh', 'nj', 'nm', 'nv', 'ny', 'oh', 'ok', 'or', 'pa', 'ri', 'sc', 'sd', 'tn', 'tx', 'ut', 'va', 'vt', 'wa', 'wi', 'wv', 'wy']\n"
     ]
    }
   ],
   "source": [
    "X_train_school_state_ohe = vectorizer.transform(X_train['school_state'].values)\n",
    "X_cv_school_state_ohe = vectorizer.transform(X_cv['school_state'].values)\n",
    "X_test_school_state_ohe = vectorizer.transform(X_test['school_state'].values)\n",
    "\n",
    "\n",
    "print(X_train_school_state_ohe.shape, y_train.shape)\n",
    "print(X_cv_school_state_ohe.shape, y_cv.shape)\n",
    "print(X_test_school_state_ohe.shape, y_test.shape)\n",
    "print(vectorizer.get_feature_names())"
   ]
  },
  {
   "cell_type": "markdown",
   "metadata": {},
   "source": [
    "#### Encoding clean_categories feature"
   ]
  },
  {
   "cell_type": "code",
   "execution_count": 22,
   "metadata": {},
   "outputs": [
    {
     "data": {
      "text/plain": [
       "literacy_language                       9664\n",
       "math_science                            7050\n",
       "literacy_language math_science          6002\n",
       "health_sports                           4416\n",
       "music_arts                              2181\n",
       "specialneeds                            1705\n",
       "literacy_language specialneeds          1606\n",
       "appliedlearning                         1485\n",
       "math_science literacy_language           926\n",
       "appliedlearning literacy_language        880\n",
       "history_civics                           749\n",
       "math_science specialneeds                740\n",
       "literacy_language music_arts             737\n",
       "math_science music_arts                  684\n",
       "history_civics literacy_language         623\n",
       "appliedlearning specialneeds             608\n",
       "health_sports specialneeds               570\n",
       "warmth care_hunger                       473\n",
       "math_science appliedlearning             462\n",
       "appliedlearning math_science             442\n",
       "health_sports literacy_language          336\n",
       "literacy_language history_civics         319\n",
       "appliedlearning music_arts               289\n",
       "math_science history_civics              271\n",
       "literacy_language appliedlearning        255\n",
       "appliedlearning health_sports            239\n",
       "math_science health_sports               159\n",
       "history_civics music_arts                138\n",
       "specialneeds music_arts                  122\n",
       "history_civics math_science              122\n",
       "health_sports math_science               115\n",
       "history_civics specialneeds              100\n",
       "health_sports appliedlearning             80\n",
       "appliedlearning history_civics            66\n",
       "health_sports music_arts                  60\n",
       "music_arts specialneeds                   60\n",
       "literacy_language health_sports           32\n",
       "history_civics appliedlearning            22\n",
       "health_sports history_civics              21\n",
       "specialneeds health_sports                19\n",
       "specialneeds warmth care_hunger           14\n",
       "music_arts health_sports                  13\n",
       "health_sports warmth care_hunger           7\n",
       "history_civics health_sports               6\n",
       "music_arts history_civics                  5\n",
       "math_science warmth care_hunger            4\n",
       "music_arts appliedlearning                 4\n",
       "appliedlearning warmth care_hunger         4\n",
       "literacy_language warmth care_hunger       3\n",
       "history_civics warmth care_hunger          1\n",
       "music_arts warmth care_hunger              1\n",
       "Name: clean_categories, dtype: int64"
      ]
     },
     "execution_count": 22,
     "metadata": {},
     "output_type": "execute_result"
    }
   ],
   "source": [
    "X_train['clean_categories'].value_counts()"
   ]
  },
  {
   "cell_type": "code",
   "execution_count": 23,
   "metadata": {},
   "outputs": [
    {
     "data": {
      "text/plain": [
       "CountVectorizer()"
      ]
     },
     "execution_count": 23,
     "metadata": {},
     "output_type": "execute_result"
    }
   ],
   "source": [
    "vectorizer = CountVectorizer()\n",
    "vectorizer.fit(X_train['clean_categories'].values)"
   ]
  },
  {
   "cell_type": "code",
   "execution_count": 24,
   "metadata": {},
   "outputs": [
    {
     "name": "stdout",
     "output_type": "stream",
     "text": [
      "(44890, 9) (44890,)\n",
      "(22110, 9) (22110,)\n",
      "(33000, 9) (33000,)\n",
      "['appliedlearning', 'care_hunger', 'health_sports', 'history_civics', 'literacy_language', 'math_science', 'music_arts', 'specialneeds', 'warmth']\n"
     ]
    }
   ],
   "source": [
    "X_train_clean_categories_ohe = vectorizer.transform(X_train['clean_categories'].values)\n",
    "X_cv_clean_categories_ohe = vectorizer.transform(X_cv['clean_categories'].values)\n",
    "X_test_clean_categories_ohe = vectorizer.transform(X_test['clean_categories'].values)\n",
    "\n",
    "\n",
    "print(X_train_clean_categories_ohe.shape, y_train.shape)\n",
    "print(X_cv_clean_categories_ohe.shape, y_cv.shape)\n",
    "print(X_test_clean_categories_ohe.shape, y_test.shape)\n",
    "print(vectorizer.get_feature_names())"
   ]
  },
  {
   "cell_type": "markdown",
   "metadata": {},
   "source": [
    "#### Encoding clean_subcategories feature"
   ]
  },
  {
   "cell_type": "code",
   "execution_count": 25,
   "metadata": {},
   "outputs": [
    {
     "data": {
      "text/plain": [
       "literacy                             3840\n",
       "literacy mathematics                 3448\n",
       "literature_writing mathematics       2410\n",
       "literacy literature_writing          2266\n",
       "mathematics                          2219\n",
       "                                     ... \n",
       "financialliteracy other                 1\n",
       "socialsciences teamsports               1\n",
       "gym_fitness socialsciences              1\n",
       "gym_fitness history_geography           1\n",
       "extracurricular financialliteracy       1\n",
       "Name: clean_subcategories, Length: 374, dtype: int64"
      ]
     },
     "execution_count": 25,
     "metadata": {},
     "output_type": "execute_result"
    }
   ],
   "source": [
    "X_train['clean_subcategories'].value_counts()"
   ]
  },
  {
   "cell_type": "code",
   "execution_count": 26,
   "metadata": {},
   "outputs": [
    {
     "data": {
      "text/plain": [
       "CountVectorizer()"
      ]
     },
     "execution_count": 26,
     "metadata": {},
     "output_type": "execute_result"
    }
   ],
   "source": [
    "vectorizer = CountVectorizer()\n",
    "vectorizer.fit(X_train['clean_subcategories'].values)"
   ]
  },
  {
   "cell_type": "code",
   "execution_count": 27,
   "metadata": {},
   "outputs": [
    {
     "name": "stdout",
     "output_type": "stream",
     "text": [
      "(44890, 30) (44890,)\n",
      "(22110, 30) (22110,)\n",
      "(33000, 30) (33000,)\n",
      "['appliedsciences', 'care_hunger', 'charactereducation', 'civics_government', 'college_careerprep', 'communityservice', 'earlydevelopment', 'economics', 'environmentalscience', 'esl', 'extracurricular', 'financialliteracy', 'foreignlanguages', 'gym_fitness', 'health_lifescience', 'health_wellness', 'history_geography', 'literacy', 'literature_writing', 'mathematics', 'music', 'nutritioneducation', 'other', 'parentinvolvement', 'performingarts', 'socialsciences', 'specialneeds', 'teamsports', 'visualarts', 'warmth']\n"
     ]
    }
   ],
   "source": [
    "X_train_clean_subcategories_ohe = vectorizer.transform(X_train['clean_categories'].values)\n",
    "X_cv_clean_subcategories_ohe = vectorizer.transform(X_cv['clean_categories'].values)\n",
    "X_test_clean_subcategories_ohe = vectorizer.transform(X_test['clean_categories'].values)\n",
    "\n",
    "\n",
    "print(X_train_clean_subcategories_ohe.shape, y_train.shape)\n",
    "print(X_cv_clean_subcategories_ohe.shape, y_cv.shape)\n",
    "print(X_test_clean_subcategories_ohe.shape, y_test.shape)\n",
    "print(vectorizer.get_feature_names())"
   ]
  },
  {
   "cell_type": "markdown",
   "metadata": {},
   "source": [
    "#### Encoding price"
   ]
  },
  {
   "cell_type": "code",
   "execution_count": 28,
   "metadata": {},
   "outputs": [],
   "source": [
    "from sklearn.preprocessing import Normalizer"
   ]
  },
  {
   "cell_type": "code",
   "execution_count": 29,
   "metadata": {},
   "outputs": [
    {
     "data": {
      "text/plain": [
       "Normalizer()"
      ]
     },
     "execution_count": 29,
     "metadata": {},
     "output_type": "execute_result"
    }
   ],
   "source": [
    "normalizer = Normalizer()\n",
    "normalizer.fit(X_train['price'].values.reshape(-1,1))"
   ]
  },
  {
   "cell_type": "code",
   "execution_count": 30,
   "metadata": {},
   "outputs": [
    {
     "name": "stdout",
     "output_type": "stream",
     "text": [
      "(44890, 1) (44890,)\n",
      "(22110, 1) (22110,)\n",
      "(33000, 1) (33000,)\n"
     ]
    }
   ],
   "source": [
    "X_train_price_norm = normalizer.transform(X_train['price'].values.reshape(-1,1))\n",
    "X_cv_price_norm = normalizer.transform(X_cv['price'].values.reshape(-1,1))\n",
    "X_test_price_norm = normalizer.transform(X_test['price'].values.reshape(-1,1))\n",
    "\n",
    "\n",
    "print(X_train_price_norm.shape, y_train.shape)\n",
    "print(X_cv_price_norm.shape, y_cv.shape)\n",
    "print(X_test_price_norm.shape, y_test.shape)"
   ]
  },
  {
   "cell_type": "markdown",
   "metadata": {},
   "source": [
    "#### Encoding teacher_number_of_previously_posted_projects"
   ]
  },
  {
   "cell_type": "code",
   "execution_count": 31,
   "metadata": {},
   "outputs": [
    {
     "data": {
      "text/plain": [
       "Normalizer()"
      ]
     },
     "execution_count": 31,
     "metadata": {},
     "output_type": "execute_result"
    }
   ],
   "source": [
    "normalizer = Normalizer()\n",
    "normalizer.fit(X_train['teacher_number_of_previously_posted_projects'].values.reshape(1,-1))"
   ]
  },
  {
   "cell_type": "code",
   "execution_count": 32,
   "metadata": {},
   "outputs": [
    {
     "name": "stdout",
     "output_type": "stream",
     "text": [
      "(44890, 1) (44890,)\n",
      "(22110, 1) (22110,)\n",
      "(33000, 1) (33000,)\n"
     ]
    }
   ],
   "source": [
    "X_train_previously_posted_projects_norm = normalizer.transform(X_train['teacher_number_of_previously_posted_projects'].values.reshape(-1,1))\n",
    "X_cv_previously_posted_projects_norm = normalizer.transform(X_cv['teacher_number_of_previously_posted_projects'].values.reshape(-1,1))\n",
    "X_test_previously_posted_projects_norm = normalizer.transform(X_test['teacher_number_of_previously_posted_projects'].values.reshape(-1,1))\n",
    "\n",
    "\n",
    "print(X_train_previously_posted_projects_norm.shape, y_train.shape)\n",
    "print(X_cv_previously_posted_projects_norm.shape, y_cv.shape)\n",
    "print(X_test_previously_posted_projects_norm.shape, y_test.shape)"
   ]
  },
  {
   "cell_type": "markdown",
   "metadata": {
    "id": "yYHPYadYb3dh"
   },
   "source": [
    "<h2>Appling NB on different kind of featurization</h2>\n"
   ]
  },
  {
   "cell_type": "markdown",
   "metadata": {},
   "source": [
    "#### Concatenating preprocessed features to form Set1 and Set2 as stated in the instructions"
   ]
  },
  {
   "cell_type": "code",
   "execution_count": 34,
   "metadata": {},
   "outputs": [
    {
     "name": "stdout",
     "output_type": "stream",
     "text": [
      "SET1 shape\n",
      "(44890, 5101) (44890,)\n",
      "(22110, 5101) (22110,)\n",
      "(33000, 5101) (33000,)\n",
      "----------------------------------------------------------------------------------------------------\n",
      "SET2 shape\n",
      "(44890, 5101) (44890,)\n",
      "(22110, 5101) (22110,)\n",
      "(33000, 5101) (33000,)\n"
     ]
    }
   ],
   "source": [
    "from scipy.sparse import hstack\n",
    "X_tr_set1 = hstack((X_train_essay_bow, X_train_school_state_ohe, X_train_teacher_prefix_ohe, X_train_project_grade_ohe,X_train_clean_categories_ohe,X_train_clean_subcategories_ohe, X_train_price_norm, X_train_previously_posted_projects_norm)).tocsr()\n",
    "X_cr_set1 = hstack((X_cv_essay_bow, X_cv_school_state_ohe, X_cv_teacher_prefix_ohe, X_cv_project_grade_ohe,X_cv_clean_categories_ohe,X_cv_clean_subcategories_ohe, X_cv_price_norm, X_cv_previously_posted_projects_norm)).tocsr()\n",
    "X_te_set1 = hstack((X_test_essay_bow, X_test_school_state_ohe, X_test_teacher_prefix_ohe, X_test_project_grade_ohe,X_test_clean_categories_ohe,X_test_clean_subcategories_ohe, X_test_price_norm, X_test_previously_posted_projects_norm)).tocsr()\n",
    "\n",
    "print(\"SET1 shape\")\n",
    "print(X_tr_set1.shape, y_train.shape)\n",
    "print(X_cr_set1.shape, y_cv.shape)\n",
    "print(X_te_set1.shape, y_test.shape)\n",
    "print(\"-\"*100)\n",
    "\n",
    "\n",
    "X_tr_set2 = hstack((X_train_essay_tfidf, X_train_school_state_ohe, X_train_teacher_prefix_ohe, X_train_project_grade_ohe,X_train_clean_categories_ohe,X_train_clean_subcategories_ohe, X_train_price_norm,X_train_previously_posted_projects_norm)).tocsr()\n",
    "X_cr_set2 = hstack((X_cv_essay_tfidf, X_cv_school_state_ohe, X_cv_teacher_prefix_ohe, X_cv_project_grade_ohe,X_cv_clean_categories_ohe,X_cv_clean_subcategories_ohe, X_cv_price_norm, X_cv_previously_posted_projects_norm)).tocsr()\n",
    "X_te_set2 = hstack((X_test_essay_tfidf, X_test_school_state_ohe, X_test_teacher_prefix_ohe, X_test_project_grade_ohe,X_test_clean_categories_ohe,X_test_clean_subcategories_ohe, X_test_price_norm, X_test_previously_posted_projects_norm)).tocsr()\n",
    "\n",
    "print(\"SET2 shape\")\n",
    "print(X_tr_set2.shape, y_train.shape)\n",
    "print(X_cr_set2.shape, y_cv.shape)\n",
    "print(X_te_set2.shape, y_test.shape)"
   ]
  },
  {
   "cell_type": "code",
   "execution_count": 35,
   "metadata": {},
   "outputs": [],
   "source": [
    "from sklearn.metrics import confusion_matrix\n",
    "from sklearn import metrics\n",
    "from sklearn.metrics import roc_curve, auc\n",
    "from sklearn.metrics import roc_auc_score\n",
    "import numpy as np\n",
    "import matplotlib.pyplot as plt\n",
    "import math\n",
    "import pandas as pd\n",
    "from sklearn.naive_bayes import MultinomialNB\n"
   ]
  },
  {
   "cell_type": "markdown",
   "metadata": {},
   "source": [
    "##### Applying NB on set1"
   ]
  },
  {
   "cell_type": "code",
   "execution_count": 36,
   "metadata": {},
   "outputs": [
    {
     "data": {
      "text/plain": [
       "<function matplotlib.pyplot.show(*args, **kw)>"
      ]
     },
     "execution_count": 36,
     "metadata": {},
     "output_type": "execute_result"
    },
    {
     "data": {
      "image/png": "[encoded data removed]",
      "text/plain": [
       "<Figure size 432x288 with 1 Axes>"
      ]
     },
     "metadata": {
      "needs_background": "light"
     },
     "output_type": "display_data"
    }
   ],
   "source": [
    "train_auc = []\n",
    "cv_auc = []\n",
    "y_pred_final_train = []\n",
    "y_pred_final_cv = []\n",
    "\n",
    "alpha_list = [0.00001,0.0005, 0.0001,0.005,0.001,0.05,0.01,0.1,0.5,1,5,10,50,100]\n",
    "for i in alpha_list:\n",
    "    classifier = MultinomialNB(alpha = i, class_prior = None)\n",
    "    classifier.fit(X_tr_set1,y_train)\n",
    "\n",
    "    y_train_pred = classifier.predict_proba(X_tr_set1)\n",
    "    y_cv_pred = classifier.predict_proba(X_cr_set1)\n",
    "    \n",
    "    for i in range(y_train_pred.shape[0]):\n",
    "        y_pred_final_train.append(max(y_train_pred[i][0],y_train_pred[i][1]))\n",
    "        \n",
    "    for i in range(y_cv_pred.shape[0]):\n",
    "        y_pred_final_cv.append(max(y_cv_pred[i][0],y_cv_pred[i][1]))\n",
    "    \n",
    "    train_auc.append(roc_auc_score(y_train,np.array(y_pred_final_train)))\n",
    "    cv_auc.append(roc_auc_score(y_cv, np.array(y_pred_final_cv)))\n",
    "\n",
    "    y_pred_final_train = []\n",
    "    y_pred_final_cv = []\n",
    "\n",
    "#Without taking log of alpha values\n",
    "    \n",
    "plt.plot(alpha_list, train_auc, label='Train AUC')\n",
    "plt.plot(alpha_list, cv_auc, label='CV AUC')\n",
    "\n",
    "plt.scatter(alpha_list, train_auc, label='Train AUC points')\n",
    "plt.scatter(alpha_list, cv_auc, label='CV AUC points')\n",
    "\n",
    "plt.legend()\n",
    "plt.xlabel(\"alpha: hyperparameter\")\n",
    "plt.ylabel(\"AUC\")\n",
    "plt.title(\"ERROR PLOTS\")\n",
    "plt.grid()\n",
    "plt.show\n"
   ]
  },
  {
   "cell_type": "code",
   "execution_count": 37,
   "metadata": {},
   "outputs": [
    {
     "data": {
      "text/plain": [
       "<function matplotlib.pyplot.show(*args, **kw)>"
      ]
     },
     "execution_count": 37,
     "metadata": {},
     "output_type": "execute_result"
    },
    {
     "data": {
      "image/png": "[encoded data removed]",
      "text/plain": [
       "<Figure size 432x288 with 1 Axes>"
      ]
     },
     "metadata": {
      "needs_background": "light"
     },
     "output_type": "display_data"
    }
   ],
   "source": [
    "train_auc = []\n",
    "cv_auc = []\n",
    "y_pred_final_train = []\n",
    "y_pred_final_cv = []\n",
    "\n",
    "alpha_list = [0.00001,0.0005, 0.0001,0.005,0.001,0.05,0.01,0.1,0.5,1,5,10,50,100]\n",
    "for i in alpha_list:\n",
    "    classifier = MultinomialNB(alpha = i, class_prior = None)\n",
    "    classifier.fit(X_tr_set1,y_train)\n",
    "\n",
    "    y_train_pred = classifier.predict_proba(X_tr_set1)\n",
    "    y_cv_pred = classifier.predict_proba(X_cr_set1)\n",
    "    \n",
    "    for i in range(y_train_pred.shape[0]):\n",
    "        y_pred_final_train.append(max(y_train_pred[i][0],y_train_pred[i][1]))\n",
    "        \n",
    "    for i in range(y_cv_pred.shape[0]):\n",
    "        y_pred_final_cv.append(max(y_cv_pred[i][0],y_cv_pred[i][1]))\n",
    "    \n",
    "    train_auc.append(roc_auc_score(y_train,np.array(y_pred_final_train)))\n",
    "    cv_auc.append(roc_auc_score(y_cv, np.array(y_pred_final_cv)))\n",
    "\n",
    "    y_pred_final_train = []\n",
    "    y_pred_final_cv = []\n",
    "\n",
    "# Taking log of alpha values\n",
    "    \n",
    "log_alpha = [math.log(i) for i in alpha_list]    \n",
    "\n",
    "plt.plot(log_alpha, train_auc, label='Train AUC')\n",
    "plt.plot(log_alpha, cv_auc, label='CV AUC')\n",
    "\n",
    "plt.scatter(log_alpha, train_auc, label='Train AUC points')\n",
    "plt.scatter(log_alpha, cv_auc, label='CV AUC points')\n",
    "\n",
    "plt.legend()\n",
    "plt.xlabel(\"alpha: hyperparameter\")\n",
    "plt.ylabel(\"AUC\")\n",
    "plt.title(\"ERROR PLOTS with LOG OF ALPHA\")\n",
    "plt.grid()\n",
    "plt.show\n"
   ]
  },
  {
   "cell_type": "code",
   "execution_count": 38,
   "metadata": {},
   "outputs": [],
   "source": [
    "# From the AUC plots the alpha value that corresponds to maxmimum value of AUC on cv data and the least gap between train\n",
    "# and cv AUC values is 50\n",
    "\n",
    "best_alpha = 50"
   ]
  },
  {
   "cell_type": "code",
   "execution_count": 39,
   "metadata": {},
   "outputs": [
    {
     "data": {
      "image/png": "[encoded data removed]",
      "text/plain": [
       "<Figure size 432x288 with 1 Axes>"
      ]
     },
     "metadata": {
      "needs_background": "light"
     },
     "output_type": "display_data"
    }
   ],
   "source": [
    "from sklearn.metrics import roc_curve, auc\n",
    "\n",
    "\n",
    "clf = MultinomialNB(alpha = best_alpha, class_prior = None)\n",
    "clf.fit(X_tr_set1, y_train)\n",
    "\n",
    "\n",
    "y_train_pred = clf.predict(X_tr_set1)    \n",
    "y_test_pred = clf.predict(X_te_set1)\n",
    "\n",
    "train_fpr, train_tpr, tr_thresholds = roc_curve(y_train, y_train_pred)\n",
    "test_fpr, test_tpr, te_thresholds = roc_curve(y_test, y_test_pred)\n",
    "\n",
    "plt.plot(train_fpr, train_tpr, label=\"train AUC =\"+str(auc(train_fpr, train_tpr)))\n",
    "plt.plot(test_fpr, test_tpr, label=\"test AUC =\"+str(auc(test_fpr, test_tpr)))\n",
    "plt.legend()\n",
    "plt.xlabel(\"alpha\")\n",
    "plt.ylabel(\"AUC\")\n",
    "plt.title(\"ERROR PLOTS\")\n",
    "plt.grid()\n",
    "plt.show()"
   ]
  },
  {
   "cell_type": "code",
   "execution_count": 40,
   "metadata": {},
   "outputs": [
    {
     "data": {
      "text/plain": [
       "((33000,), (33000,))"
      ]
     },
     "execution_count": 40,
     "metadata": {},
     "output_type": "execute_result"
    }
   ],
   "source": [
    "y_test.shape, y_test_pred.shape"
   ]
  },
  {
   "cell_type": "code",
   "execution_count": 41,
   "metadata": {},
   "outputs": [
    {
     "name": "stdout",
     "output_type": "stream",
     "text": [
      "Confusion matrix in heatmaps\n"
     ]
    },
    {
     "data": {
      "text/plain": [
       "<matplotlib.axes._subplots.AxesSubplot at 0x2905a9f13a0>"
      ]
     },
     "execution_count": 41,
     "metadata": {},
     "output_type": "execute_result"
    },
    {
     "data": {
      "image/png": "[encoded data removed]",
      "text/plain": [
       "<Figure size 432x288 with 2 Axes>"
      ]
     },
     "metadata": {
      "needs_background": "light"
     },
     "output_type": "display_data"
    }
   ],
   "source": [
    "from sklearn.metrics import confusion_matrix\n",
    "import seaborn as sns\n",
    "\n",
    "print(\"Confusion matrix in heatmaps\")\n",
    "cm = confusion_matrix(y_test, y_test_pred)\n",
    "sns.heatmap(cm, annot=True, fmt = 'd', cmap='viridis')"
   ]
  },
  {
   "cell_type": "markdown",
   "metadata": {},
   "source": [
    "#### Applying NB on SET2"
   ]
  },
  {
   "cell_type": "code",
   "execution_count": 42,
   "metadata": {},
   "outputs": [
    {
     "data": {
      "text/plain": [
       "<function matplotlib.pyplot.show(*args, **kw)>"
      ]
     },
     "execution_count": 42,
     "metadata": {},
     "output_type": "execute_result"
    },
    {
     "data": {
      "image/png": "[encoded data removed]",
      "text/plain": [
       "<Figure size 432x288 with 1 Axes>"
      ]
     },
     "metadata": {
      "needs_background": "light"
     },
     "output_type": "display_data"
    }
   ],
   "source": [
    "train_auc = []      ### using tfidf set\n",
    "cv_auc = []\n",
    "y_pred_final_train = []\n",
    "y_pred_final_cv = []\n",
    "\n",
    "alpha_list = [0.00001,0.0005, 0.0001,0.005,0.001,0.05,0.01,0.1,0.5,1,5,10,50,100]\n",
    "for i in alpha_list:\n",
    "    classifier = MultinomialNB(alpha = i, class_prior = None)\n",
    "    classifier.fit(X_tr_set2,y_train)\n",
    "\n",
    "    y_train_pred = classifier.predict_proba(X_tr_set2)\n",
    "    y_cv_pred = classifier.predict_proba(X_cr_set2)\n",
    "    \n",
    "    for i in range(y_train_pred.shape[0]):\n",
    "        y_pred_final_train.append(max(y_train_pred[i][0],y_train_pred[i][1]))\n",
    "        \n",
    "    for i in range(y_cv_pred.shape[0]):\n",
    "        y_pred_final_cv.append(max(y_cv_pred[i][0],y_cv_pred[i][1]))\n",
    "    \n",
    "    train_auc.append(roc_auc_score(y_train,np.array(y_pred_final_train)))\n",
    "    cv_auc.append(roc_auc_score(y_cv, np.array(y_pred_final_cv)))\n",
    "\n",
    "    y_pred_final_train = []\n",
    "    y_pred_final_cv = []\n",
    "\n",
    "#Without taking log of alpha values\n",
    "    \n",
    "plt.plot(alpha_list, train_auc, label='Train AUC')\n",
    "plt.plot(alpha_list, cv_auc, label='CV AUC')\n",
    "\n",
    "plt.scatter(alpha_list, train_auc, label='Train AUC points')\n",
    "plt.scatter(alpha_list, cv_auc, label='CV AUC points')\n",
    "\n",
    "plt.legend()\n",
    "plt.xlabel(\"alpha\")\n",
    "plt.ylabel(\"AUC\")\n",
    "plt.title(\"ERROR PLOTS\")\n",
    "plt.grid()\n",
    "plt.show\n"
   ]
  },
  {
   "cell_type": "code",
   "execution_count": 43,
   "metadata": {},
   "outputs": [
    {
     "data": {
      "text/plain": [
       "<function matplotlib.pyplot.show(*args, **kw)>"
      ]
     },
     "execution_count": 43,
     "metadata": {},
     "output_type": "execute_result"
    },
    {
     "data": {
      "image/png": "[encoded data removed]",
      "text/plain": [
       "<Figure size 432x288 with 1 Axes>"
      ]
     },
     "metadata": {
      "needs_background": "light"
     },
     "output_type": "display_data"
    }
   ],
   "source": [
    "train_auc = []\n",
    "cv_auc = []\n",
    "y_pred_final_train = []\n",
    "y_pred_final_cv = []\n",
    "\n",
    "alpha_list = [0.00001,0.0005, 0.0001,0.005,0.001,0.05,0.01,0.1,0.5,1,5,10,50,100]\n",
    "for i in alpha_list:\n",
    "    classifier = MultinomialNB(alpha = i, class_prior = None)\n",
    "    classifier.fit(X_tr_set2,y_train)\n",
    "\n",
    "    y_train_pred = classifier.predict_proba(X_tr_set2)\n",
    "    y_cv_pred = classifier.predict_proba(X_cr_set2)\n",
    "    \n",
    "    for i in range(y_train_pred.shape[0]):\n",
    "        y_pred_final_train.append(max(y_train_pred[i][0],y_train_pred[i][1]))\n",
    "        \n",
    "    for i in range(y_cv_pred.shape[0]):\n",
    "        y_pred_final_cv.append(max(y_cv_pred[i][0],y_cv_pred[i][1]))\n",
    "    \n",
    "    train_auc.append(roc_auc_score(y_train,np.array(y_pred_final_train)))\n",
    "    cv_auc.append(roc_auc_score(y_cv, np.array(y_pred_final_cv)))\n",
    "\n",
    "    y_pred_final_train = []\n",
    "    y_pred_final_cv = []\n",
    "\n",
    "# Taking log of alpha values\n",
    "    \n",
    "log_alpha = [math.log(i) for i in alpha_list]    \n",
    "\n",
    "plt.plot(log_alpha, train_auc, label='Train AUC')\n",
    "plt.plot(log_alpha, cv_auc, label='CV AUC')\n",
    "\n",
    "plt.scatter(log_alpha, train_auc, label='Train AUC points')\n",
    "plt.scatter(log_alpha, cv_auc, label='CV AUC points')\n",
    "\n",
    "plt.legend()\n",
    "plt.xlabel(\"alpha: hyperparameter\")\n",
    "plt.ylabel(\"AUC\")\n",
    "plt.title(\"ERROR PLOTS\")\n",
    "plt.grid()\n",
    "plt.show\n"
   ]
  },
  {
   "cell_type": "code",
   "execution_count": 50,
   "metadata": {},
   "outputs": [],
   "source": [
    "## the best alpha value corresponding to maximum AUC\n",
    "best_alpha = 0.00001"
   ]
  },
  {
   "cell_type": "code",
   "execution_count": 52,
   "metadata": {},
   "outputs": [
    {
     "data": {
      "image/png": "[encoded data removed]",
      "text/plain": [
       "<Figure size 432x288 with 1 Axes>"
      ]
     },
     "metadata": {
      "needs_background": "light"
     },
     "output_type": "display_data"
    }
   ],
   "source": [
    "from sklearn.metrics import roc_curve, auc\n",
    "\n",
    "\n",
    "clf = MultinomialNB(alpha = best_alpha, class_prior = None)\n",
    "clf.fit(X_tr_set2, y_train)\n",
    "\n",
    "\n",
    "y_train_pred = clf.predict(X_tr_set2)    \n",
    "y_test_pred = clf.predict(X_te_set2)\n",
    "\n",
    "train_fpr, train_tpr, tr_thresholds = roc_curve(y_train, y_train_pred)\n",
    "test_fpr, test_tpr, te_thresholds = roc_curve(y_test, y_test_pred)\n",
    "\n",
    "plt.plot(train_fpr, train_tpr, label=\"train AUC =\"+str(auc(train_fpr, train_tpr)))\n",
    "plt.plot(test_fpr, test_tpr, label=\"test AUC =\"+str(auc(test_fpr, test_tpr)))\n",
    "plt.legend()\n",
    "plt.xlabel(\"alpha\")\n",
    "plt.ylabel(\"AUC\")\n",
    "plt.title(\"ERROR PLOTS\")\n",
    "plt.grid()\n",
    "plt.show()"
   ]
  },
  {
   "cell_type": "code",
   "execution_count": 53,
   "metadata": {},
   "outputs": [
    {
     "name": "stdout",
     "output_type": "stream",
     "text": [
      "Confusion matrix in heatmaps\n"
     ]
    },
    {
     "data": {
      "text/plain": [
       "<matplotlib.axes._subplots.AxesSubplot at 0x2900a8c3cd0>"
      ]
     },
     "execution_count": 53,
     "metadata": {},
     "output_type": "execute_result"
    },
    {
     "data": {
      "image/png": "[encoded data removed]",
      "text/plain": [
       "<Figure size 432x288 with 2 Axes>"
      ]
     },
     "metadata": {
      "needs_background": "light"
     },
     "output_type": "display_data"
    }
   ],
   "source": [
    "from sklearn.metrics import confusion_matrix\n",
    "import seaborn as sns\n",
    "\n",
    "print(\"Confusion matrix in heatmaps\")\n",
    "cm = confusion_matrix(y_test, y_test_pred)\n",
    "sns.heatmap(cm, annot=True, fmt = 'd', cmap='viridis')"
   ]
  },
  {
   "cell_type": "code",
   "execution_count": 58,
   "metadata": {},
   "outputs": [],
   "source": [
    "features_df = pd.DataFrame({'Negative':(clf.feature_log_prob_)[0].T, 'Positive':(clf.feature_log_prob_)[1].T, 'Features':l})"
   ]
  },
  {
   "cell_type": "markdown",
   "metadata": {
    "id": "lS9hIHdib3dp"
   },
   "source": [
    "<h1>3. Summary</h1>\n"
   ]
  },
  {
   "cell_type": "code",
   "execution_count": 4,
   "metadata": {},
   "outputs": [
    {
     "name": "stdout",
     "output_type": "stream",
     "text": [
      "  Vectorizer        Model  Hyper Parameter      AUC\n",
      "0        BOW  Naive Bayes         50.00000  0.56404\n",
      "1      TFIDF  Naive Bayes          0.00001  0.50038\n"
     ]
    }
   ],
   "source": [
    "import pandas\n",
    "table = {'Vectorizer':['BOW','TFIDF'],\n",
    "                'Model':['Naive Bayes','Naive Bayes'],\n",
    "                'Hyper Parameter':[50,0.00001],\n",
    "                'AUC':[0.56404,0.50038]}\n",
    "summary = pandas.DataFrame(table,columns = ['Vectorizer','Model','Hyper Parameter','AUC'])\n",
    "print(summary)"
   ]
  },
  {
   "cell_type": "markdown",
   "metadata": {},
   "source": [
    "## THE END"
   ]
  }
 ],
 "metadata": {
  "colab": {
   "collapsed_sections": [],
   "name": "6_Assignment_NB_Instructions.ipynb",
   "provenance": []
  },
  "kernelspec": {
   "display_name": "Python 3",
   "language": "python",
   "name": "python3"
  },
  "language_info": {
   "codemirror_mode": {
    "name": "ipython",
    "version": 3
   },
   "file_extension": ".py",
   "mimetype": "text/x-python",
   "name": "python",
   "nbconvert_exporter": "python",
   "pygments_lexer": "ipython3",
   "version": "3.8.5"
  }
 },
 "nbformat": 4,
 "nbformat_minor": 1
}
